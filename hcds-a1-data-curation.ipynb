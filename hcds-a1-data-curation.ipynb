{
 "cells": [
  {
   "cell_type": "markdown",
   "metadata": {},
   "source": [
    "# DATA 512 - A1: Data Curation\n",
    "**Corey Christopherson**\n",
    "**10/3/2019**  \n",
    "\n",
    "The purpose of this project was to construct, analyze, and publish a dataset of monthly traffic on English Wikipedia from January 1, 2008 through August 30, 2019"
   ]
  },
  {
   "cell_type": "code",
   "execution_count": 177,
   "metadata": {},
   "outputs": [],
   "source": [
    "import numpy as np\n",
    "import pandas as pd\n",
    "import json\n",
    "import requests\n",
    "import matplotlib.pyplot as plt"
   ]
  },
  {
   "cell_type": "markdown",
   "metadata": {},
   "source": [
    "## Data Acquisition\n",
    "\n",
    "The data for this project was obtained from the Wikipedia Legacy Pagecounts API and Pageviews API"
   ]
  },
  {
   "cell_type": "code",
   "execution_count": 18,
   "metadata": {},
   "outputs": [],
   "source": [
    "#\n",
    "### AQUIRE DATA ###\n",
    "#"
   ]
  },
  {
   "cell_type": "code",
   "execution_count": 16,
   "metadata": {},
   "outputs": [],
   "source": [
    "# Define data path\n",
    "path = r'C:/Users/chrico7/Documents/__Corey Christopherson/MS Data Science/Courses/HCDE 512/Week 1/Homework/'"
   ]
  },
  {
   "cell_type": "markdown",
   "metadata": {},
   "source": [
    "Each endpoint URL was parameterized to support data pulls for the different types of traffic (desktop and mobile). Each API query was initiated using the python requests library and the raw output was immediately stored in a json file"
   ]
  },
  {
   "cell_type": "code",
   "execution_count": 9,
   "metadata": {},
   "outputs": [],
   "source": [
    "# Define endpoint URLs\n",
    "endpoint_legacy = ('https://wikimedia.org/api/rest_v1/metrics/legacy/pagecounts/aggregate/' +\n",
    "                   'en.wikipedia.org/{}/monthly/2007010100/2019090100')\n",
    "endpoint_pageviews = ('https://wikimedia.org/api/rest_v1/metrics/pageviews/aggregate/' + \n",
    "                      'en.wikipedia.org/{}/user/monthly/2007010100/2019090100')\n",
    "\n",
    "# Define API parameter lists\n",
    "access_site = ['desktop-site','mobile-site']\n",
    "access = ['desktop','mobile-web','mobile-app']\n",
    "\n",
    "# Define Git parameters\n",
    "headers = {'User-Agent': 'https://github.com/yourusername',\n",
    "           'From': 'youremail@uw.edu'}"
   ]
  },
  {
   "cell_type": "code",
   "execution_count": 19,
   "metadata": {},
   "outputs": [],
   "source": [
    "# Pull legacy pagecounts data and write raw data to file\n",
    "#\n",
    "# desktop-site\n",
    "pagecounts_desktopsite_request = requests.get(endpoint_legacy.format('desktop-site'))\n",
    "pagecounts_desktopsite_response = pagecounts_desktopsite_request.json()\n",
    "with open('{}pagecounts_desktopsite_2007010100-2019090100.json'.format(path),'w') as f:\n",
    "    json.dump(pagecounts_desktopsite_response,f)\n",
    "# mobiile-site\n",
    "pagecounts_mobilesite_request = requests.get(endpoint_legacy.format('mobile-site'))\n",
    "pagecounts_mobilesite_response = pagecounts_mobilesite_request.json()\n",
    "with open('{}pagecounts_mobilesite_2007010100-2019090100.json'.format(path),'w') as f:\n",
    "    json.dump(pagecounts_mobilesite_response,f)"
   ]
  },
  {
   "cell_type": "code",
   "execution_count": 20,
   "metadata": {},
   "outputs": [],
   "source": [
    "# Pull pageviews data amd write raw data to file\n",
    "#\n",
    "# desktop\n",
    "pageviews_desktop_request = requests.get(endpoint_pageviews.format('desktop'))\n",
    "pageviews_desktop_response = pageviews_desktop_request.json()\n",
    "with open('{}pageviews_desktop_2007010100-2019090100.json'.format(path),'w') as f:\n",
    "    json.dump(pageviews_desktop_response,f)\n",
    "# mobile-web\n",
    "pageviews_mobileweb_request = requests.get(endpoint_pageviews.format('mobile-web'))\n",
    "pageviews_mobileweb_response = pageviews_mobileweb_request.json()\n",
    "with open('{}pageviews_mobileweb_2007010100-2019090100.json'.format(path),'w') as f:\n",
    "    json.dump(pageviews_mobileweb_response,f)\n",
    "# mobile-app\n",
    "pageviews_mobileapp_request = requests.get(endpoint_pageviews.format('mobile-app'))\n",
    "pageviews_mobileapp_response = pageviews_mobileapp_request.json()\n",
    "with open('{}pageviews_mobileapp_2007010100-2019090100.json'.format(path),'w') as f:\n",
    "    json.dump(pageviews_mobileapp_response,f)"
   ]
  },
  {
   "cell_type": "markdown",
   "metadata": {},
   "source": [
    "## Data Processing\n",
    "\n",
    "The data was then processed to support plotting of the desktop, mobile, and combined pageviews."
   ]
  },
  {
   "cell_type": "code",
   "execution_count": 21,
   "metadata": {},
   "outputs": [],
   "source": [
    "#\n",
    "### PROCESS DATA\n",
    "#"
   ]
  },
  {
   "cell_type": "markdown",
   "metadata": {},
   "source": [
    "The raw json data was converted into pandas dataframes for easier processing"
   ]
  },
  {
   "cell_type": "code",
   "execution_count": 64,
   "metadata": {},
   "outputs": [],
   "source": [
    "# Convert json data to pandas dataframes\n",
    "pagecounts_desktop_raw = pd.io.json.json_normalize(pagecounts_desktopsite_response['items'])\n",
    "pagecounts_mobile_raw = pd.io.json.json_normalize(pagecounts_mobilesite_response['items'])\n",
    "pageviews_desktop_raw = pd.io.json.json_normalize(pageviews_desktop_response['items'])\n",
    "pageviews_mobileweb_raw = pd.io.json.json_normalize(pageviews_mobileweb_response['items'])\n",
    "pageviews_mobileapp_raw = pd.io.json.json_normalize(pageviews_mobileapp_response['items'])"
   ]
  },
  {
   "cell_type": "markdown",
   "metadata": {},
   "source": [
    "The timestamp and count columns were extracted from the raw dataframes. To support the merging of the 5 separate frames, the count columns were renamed to identify the original source and the timestamp field was designated as the dataframe index"
   ]
  },
  {
   "cell_type": "code",
   "execution_count": 91,
   "metadata": {},
   "outputs": [],
   "source": [
    "# Format data frames\n",
    "pagecounts_desktop = (pagecounts_desktop_raw[['timestamp','count']]\n",
    "                      .rename({'count':'pagecount_desktop_views'},axis=1).set_index('timestamp'))\n",
    "pagecounts_mobile = (pagecounts_mobile_raw[['timestamp','count']]\n",
    "                     .rename({'count':'pagecount_mobile_views'},axis=1).set_index('timestamp'))\n",
    "pageviews_desktop = (pageviews_desktop_raw[['timestamp','views']]\n",
    "                     .rename({'views':'pageview_desktop_views'},axis=1).set_index('timestamp'))\n",
    "pageviews_mobileweb = (pageviews_mobileweb_raw[['timestamp','views']]\n",
    "                       .rename({'views':'pageview_mobileweb_views'},axis=1).set_index('timestamp'))\n",
    "pageviews_mobileapp = (pageviews_mobileapp_raw[['timestamp','views']]\n",
    "                       .rename({'views':'pageview_mobileapp_views'},axis=1).set_index('timestamp'))"
   ]
  },
  {
   "cell_type": "markdown",
   "metadata": {},
   "source": [
    "The legacy pagecounts frames were combined and a new all_views column (sum of desktop and mobile) was added. NaN values were all filled with 0 to support plotting"
   ]
  },
  {
   "cell_type": "code",
   "execution_count": 143,
   "metadata": {},
   "outputs": [],
   "source": [
    "# Combine pagecount data into a single frame and add all_views column\n",
    "pagecounts_all = pd.concat([pagecounts_desktop, pagecounts_mobile],axis=1,sort=False).fillna(0)\n",
    "pagecounts_all.loc[:,'pagecount_all_views'] = (pagecounts_all['pagecount_desktop_views'] + \n",
    "                                               pagecounts_all['pagecount_mobile_views'])"
   ]
  },
  {
   "cell_type": "markdown",
   "metadata": {},
   "source": [
    "The pageview mobile-app and mobile-web frames were combined into a single frame to encompass all mobile data before being combined with the pageview desktop data. A new all_views columns was added and NaNs filled with 0 as above"
   ]
  },
  {
   "cell_type": "code",
   "execution_count": 144,
   "metadata": {},
   "outputs": [],
   "source": [
    "# Combine pageview mobile-app and mobile-web into single mobile frame\n",
    "pageviews_mobile = pd.concat([pageviews_mobileweb, pageviews_mobileapp],axis=1,sort=False).fillna(0)\n",
    "pageviews_mobile.loc[:,'pageview_mobile_views'] = (pageviews_mobile.loc[:,'pageview_mobileweb_views'] + \n",
    "                                                   pageviews_mobile.loc[:,'pageview_mobileapp_views'])\n",
    "pageviews_mobile = pd.DataFrame(pageviews_mobile['pageview_mobile_views'])"
   ]
  },
  {
   "cell_type": "code",
   "execution_count": 145,
   "metadata": {},
   "outputs": [],
   "source": [
    "# Combine pageview data into a single frame and add all_views column\n",
    "pageviews_all = pd.concat([pageviews_desktop, pageviews_mobile],axis=1,sort=False).fillna(0)\n",
    "pageviews_all.loc[:,'pageview_all_views'] = (pageviews_all['pageview_desktop_views'] + \n",
    "                                             pageviews_all['pageview_mobile_views'])"
   ]
  },
  {
   "cell_type": "markdown",
   "metadata": {},
   "source": [
    "The pagecount and pageview data was then combine into a common frame, NaNs were filled with 0, and the index (timestamp) field was broken out into separate year and month fields. The columns were then placed into the proper order and the numeric index was reset. The final data frame was then written to an output csv"
   ]
  },
  {
   "cell_type": "code",
   "execution_count": 146,
   "metadata": {},
   "outputs": [],
   "source": [
    "# Combine all data into common frame\n",
    "all_data = pd.concat([pageviews_all, pagecounts_all],axis=1,sort=False).fillna(0).reset_index()"
   ]
  },
  {
   "cell_type": "code",
   "execution_count": 150,
   "metadata": {},
   "outputs": [],
   "source": [
    "# Add in year and month fields and drop index field\n",
    "all_data.loc[:,'year'] = all_data['index'].str[:4]\n",
    "all_data.loc[:,'month'] = all_data['index'].str[4:6]\n",
    "all_data.drop('index',axis=1,inplace=True)"
   ]
  },
  {
   "cell_type": "code",
   "execution_count": 151,
   "metadata": {},
   "outputs": [],
   "source": [
    "# Clean up data frame\n",
    "all_data = all_data[['index','year','month',\n",
    "                     'pagecount_all_views','pagecount_desktop_views','pagecount_mobile_views',\n",
    "                     'pageview_all_views','pageview_desktop_views','pageview_mobile_views']].sort_values(['year',\n",
    "                                                                                                          'month'])\n",
    "all_data = all_data.reset_index(drop=True)"
   ]
  },
  {
   "cell_type": "code",
   "execution_count": 160,
   "metadata": {},
   "outputs": [],
   "source": [
    "# Write to a csv\n",
    "all_data.to_csv(r'{}en-wikipedia_traffic_200712-201809.csv'.format(path),header=True,index=False)"
   ]
  },
  {
   "cell_type": "markdown",
   "metadata": {},
   "source": [
    "## Data Analysis\n",
    "\n",
    "The data was then further simplified by combining the pagecount and pageview data into a single field for mobile and desktop data. This allows us to plot the legacy and current datasets on a common axis"
   ]
  },
  {
   "cell_type": "code",
   "execution_count": 63,
   "metadata": {},
   "outputs": [],
   "source": [
    "#\n",
    "### ANALYZE DATA\n",
    "#"
   ]
  },
  {
   "cell_type": "code",
   "execution_count": 174,
   "metadata": {},
   "outputs": [],
   "source": [
    "# Combine mobile, desktop, and all (mobile + desktop) for display\n",
    "#\n",
    "# Copy all_data into a new frame\n",
    "all_data_trim = all_data.copy()\n",
    "\n",
    "# Combine mobile and desktop traffic. Where duplicate records exist take the pageview (newer) records\n",
    "all_data_trim.loc[:,'mobile site'] = np.where((all_data_trim['pagecount_mobile_views']!=0)&\n",
    "                                             (all_data_trim['pageview_mobile_views']!=0),\n",
    "                                             all_data_trim['pageview_mobile_views'],\n",
    "                                             (all_data_trim['pagecount_mobile_views']+\n",
    "                                              all_data_trim['pageview_mobile_views']))/1000000\n",
    "all_data_trim.loc[:,'main site'] = np.where(((all_data_trim['pagecount_desktop_views']!=0)&\n",
    "                                             (all_data_trim['pageview_desktop_views']!=0)),\n",
    "                                             all_data_trim['pageview_desktop_views'],\n",
    "                                             (all_data_trim['pagecount_desktop_views']+\n",
    "                                              all_data_trim['pageview_desktop_views']))/1000000\n",
    "\n",
    "# Combine all data into a total field\n",
    "all_data_trim.loc[:,'total'] = all_data_trim.loc[:,'mobile site'] + all_data_trim.loc[:,'main site']\n",
    "\n",
    "# Drop unneeded rows\n",
    "all_data_trim = all_data_trim[['year', 'month', 'mobile site', 'main site', 'total']]"
   ]
  },
  {
   "cell_type": "markdown",
   "metadata": {},
   "source": [
    "The year and month fields were combined into a common date field and converted into the timestamp data type. The final plot was then generated and output to a png file"
   ]
  },
  {
   "cell_type": "code",
   "execution_count": 191,
   "metadata": {},
   "outputs": [],
   "source": [
    "# Combine year and month field into single frame\n",
    "all_data_trim.loc[:,'date'] = all_data_trim['month'].map(str) + '-' + all_data_trim['year'].map(str)\n",
    "all_data_trim.loc[:,'date'] = pd.to_datetime(all_data_trim['date'],format='%M-%Y').dt.strftime('%M-%Y')"
   ]
  },
  {
   "cell_type": "code",
   "execution_count": 203,
   "metadata": {},
   "outputs": [
    {
     "data": {
      "image/png": "[encoded data removed]",
      "text/plain": [
       "<Figure size 720x360 with 1 Axes>"
      ]
     },
     "metadata": {
      "needs_background": "light"
     },
     "output_type": "display_data"
    }
   ],
   "source": [
    "# Plot data\n",
    "ax = plt.gca()\n",
    "fig = plt.gcf()\n",
    "fig.set_size_inches(10, 5)\n",
    "fig.suptitle('Pageviews for en.wikipedia (monthly)')\n",
    "plt.ylabel('Views (millions)')\n",
    "\n",
    "all_data_trim.plot(kind='line',x='date',y='mobile site',ax=ax)\n",
    "all_data_trim.plot(kind='line',x='date',y='main site', color='red', ax=ax)\n",
    "all_data_trim.plot(kind='line',x='date',y='total', color='green', ax=ax)\n",
    "\n",
    "plt.show()"
   ]
  },
  {
   "cell_type": "code",
   "execution_count": 204,
   "metadata": {},
   "outputs": [],
   "source": [
    "# Output figure\n",
    "fig.savefig('{}en-wikipedia_traffic_200712-201809.png'.format(path), dpi=100)"
   ]
  }
 ],
 "metadata": {
  "kernelspec": {
   "display_name": "Python 3",
   "language": "python",
   "name": "python3"
  },
  "language_info": {
   "codemirror_mode": {
    "name": "ipython",
    "version": 3
   },
   "file_extension": ".py",
   "mimetype": "text/x-python",
   "name": "python",
   "nbconvert_exporter": "python",
   "pygments_lexer": "ipython3",
   "version": "3.7.3"
  }
 },
 "nbformat": 4,
 "nbformat_minor": 2
}
